{
  "cells": [
    {
      "cell_type": "markdown",
      "metadata": {
        "id": "view-in-github",
        "colab_type": "text"
      },
      "source": [
        "<a href=\"https://colab.research.google.com/github/hilalsinem/python/blob/main/practical_exercise1.ipynb\" target=\"_parent\"><img src=\"https://colab.research.google.com/assets/colab-badge.svg\" alt=\"Open In Colab\"/></a>"
      ]
    },
    {
      "cell_type": "markdown",
      "metadata": {
        "id": "tBDsFMQwBs6Z"
      },
      "source": [
        "# Practical exercise 1:  Plan an exciting adventure with a new friend\n",
        "\n",
        "Welcome to your first practical exercise for this course. Here you will get a chance to practice the concepts we've covered in the video lessons from the module and apply your new coding skills to plan an exciting adventure with a new friend you meet online."
      ]
    },
    {
      "cell_type": "markdown",
      "metadata": {
        "id": "ymULFKyosM3d"
      },
      "source": [
        "##Warm up\n",
        "\n",
        "For this exercise, you will have to read the instructions, then write and run the code block. \n",
        "\n",
        "Let's test this. Do you remember all the keywords in Python? Probably not, but there is a quick and easy way to check them here.  \n",
        "\n",
        "1. Write the help() function in the code cell below and run the code. \n",
        "2. In the prompt that appears, type \"keywords\" and they will pop up."
      ]
    },
    {
      "cell_type": "code",
      "execution_count": null,
      "metadata": {
        "colab": {
          "background_save": true,
          "base_uri": "https://localhost:8080/"
        },
        "id": "0w6HGZBvsvru",
        "outputId": "cf11150b-a2da-4eff-92eb-bf9ce8965845"
      },
      "outputs": [
        {
          "metadata": {
            "tags": null
          },
          "name": "stdout",
          "output_type": "stream",
          "text": [
            "\n",
            "Welcome to Python 3.8's help utility!\n",
            "\n",
            "If this is your first time using Python, you should definitely check out\n",
            "the tutorial on the Internet at https://docs.python.org/3.8/tutorial/.\n",
            "\n",
            "Enter the name of any module, keyword, or topic to get help on writing\n",
            "Python programs and using Python modules.  To quit this help utility and\n",
            "return to the interpreter, just type \"quit\".\n",
            "\n",
            "To get a list of available modules, keywords, symbols, or topics, type\n",
            "\"modules\", \"keywords\", \"symbols\", or \"topics\".  Each module also comes\n",
            "with a one-line summary of what it does; to list the modules whose name\n",
            "or summary contain a given string such as \"spam\", type \"modules spam\".\n",
            "\n",
            "\n",
            "Here is a list of the Python keywords.  Enter any keyword to get more help.\n",
            "\n",
            "False               class               from                or\n",
            "None                continue            global              pass\n",
            "True                def                 if                  raise\n",
            "and                 del                 import              return\n",
            "as                  elif                in                  try\n",
            "assert              else                is                  while\n",
            "async               except              lambda              with\n",
            "await               finally             nonlocal            yield\n",
            "break               for                 not                 \n",
            "\n"
          ]
        }
      ],
      "source": [
        "help()"
      ]
    },
    {
      "cell_type": "markdown",
      "metadata": {
        "id": "kG-nBjLU1WPC"
      },
      "source": [
        "🧨 Is the code cell above still running? If so, you can't continue!\n",
        "\n",
        "💣 Click the stop button next to the cell. Otherwise, it will continue to run infinitely and you will not be able to run other cells."
      ]
    },
    {
      "cell_type": "markdown",
      "metadata": {
        "id": "cnWVzlo1vBy8"
      },
      "source": [
        "# Meet Amir\n",
        "\n",
        "Let's say you are browsing the internet, when a pop up message shows on your screen, someone wants to meet you. \n",
        " "
      ]
    },
    {
      "cell_type": "code",
      "execution_count": null,
      "metadata": {
        "colab": {
          "base_uri": "https://localhost:8080/"
        },
        "id": "JFUdDbEW7GqB",
        "outputId": "3cd7d882-f749-4e34-fa0f-f6121a82e54e"
      },
      "outputs": [
        {
          "name": "stdout",
          "output_type": "stream",
          "text": [
            "Hello, my name is Amir! Nice to meet you. What is yours?\n"
          ]
        }
      ],
      "source": [
        "#Run this cell to see the message\n",
        "message = \"Hello, my name is Amir! Nice to meet you. What is yours?\"\n",
        "print(message)"
      ]
    },
    {
      "cell_type": "markdown",
      "metadata": {
        "id": "Yr7uQq1J2k6p"
      },
      "source": [
        "Now, how would you answer Amir? \n",
        "\n",
        "Use the cell below to prepare an answer for him with a greeting and your name and print it to the screen. \n",
        "\n",
        "📌 We use the built-in function print() in Python to show results as output."
      ]
    },
    {
      "cell_type": "code",
      "execution_count": null,
      "metadata": {
        "colab": {
          "base_uri": "https://localhost:8080/"
        },
        "id": "8S1F2r8NtEoN",
        "outputId": "89cb6c40-dd26-4a2c-fa0b-c0be67c70c73"
      },
      "outputs": [
        {
          "name": "stdout",
          "output_type": "stream",
          "text": [
            "Hello Amir. My name is Hilal\n"
          ]
        }
      ],
      "source": [
        "#Write your answer and print it on the screen\n",
        "print(\"Hello Amir. My name is Hilal\")"
      ]
    },
    {
      "cell_type": "markdown",
      "metadata": {
        "id": "Vgv4mhyZEWR6"
      },
      "source": [
        "Good job! Right away Amir writes you back with an intriguing question. He says, \"Would you like to plan an exciting adventure with me today?\" Well, why not! But before you start planning, maybe you need to learn a little bit more about each other."
      ]
    },
    {
      "cell_type": "markdown",
      "metadata": {
        "id": "QQIXQsmRwGqB"
      },
      "source": [
        "#Get to know each other\n",
        "\n",
        "You ask Amir to tell you a little bit about himself, and here's what he tells you."
      ]
    },
    {
      "cell_type": "code",
      "execution_count": null,
      "metadata": {
        "colab": {
          "base_uri": "https://localhost:8080/"
        },
        "id": "dvTr4HR4wF4n",
        "outputId": "3dc688f0-1a44-4fea-f7b6-18af02466f47"
      },
      "outputs": [
        {
          "name": "stdout",
          "output_type": "stream",
          "text": [
            "I am 20 years old, 1.76 tall brunette guy from Iran but I currently live in Turkey\n",
            "What about you? Tell me about yourself.\n"
          ]
        }
      ],
      "source": [
        "#Run the cell to see his message\n",
        "his_age = 20\n",
        "his_height = 1.76\n",
        "his_hair_color = \"brunette\"\n",
        "his_hometown = \"Iran\"\n",
        "where_he_lives = \"Turkey\"\n",
        "\n",
        "print(\"I am\", str(his_age),\"years old,\",str(his_height),\"tall\",his_hair_color,\"guy from\",his_hometown,\"but I currently live in\",where_he_lives)\n",
        "\n",
        "print(\"What about you? Tell me about yourself.\")"
      ]
    },
    {
      "cell_type": "markdown",
      "metadata": {
        "id": "L7-zc-wR5982"
      },
      "source": [
        "Now it is your turn to share, but first some preparation is needed.\n",
        "\n",
        "1. Write in information about yourself using the variables below. \n",
        "2. If there's something you don't want to share, you can use comments. Just put a \"#\" symbol in front of the code line and Python will not execute that line of code.\n",
        "3. Check the datatype of each variable.\n",
        "\n",
        "📌 Remember that there are different data types in Python and in order to use them in a sentence you may have to convert some of them. "
      ]
    },
    {
      "cell_type": "code",
      "execution_count": null,
      "metadata": {
        "colab": {
          "base_uri": "https://localhost:8080/"
        },
        "id": "MDTV-mOZBVOw",
        "outputId": "955960b2-04b7-44a7-c240-d7e49b77cd0f"
      },
      "outputs": [
        {
          "data": {
            "text/plain": [
              "float"
            ]
          },
          "execution_count": 6,
          "metadata": {},
          "output_type": "execute_result"
        }
      ],
      "source": [
        "#Please assign your age, height and other details you want to share.\n",
        "my_age = 20;\n",
        "my_height = 1.67\n",
        "my_hometown = \"Turkiye\"\n",
        "\n",
        "#Check the data type of the variables you want to use.\n",
        "type(my_age)\n",
        "type(my_height)\n",
        "#type(my_hometown)"
      ]
    },
    {
      "cell_type": "markdown",
      "metadata": {
        "id": "SDnrjsw7IC7Z"
      },
      "source": [
        "Great, now that you know what you want to share and which variables need to be converted to strings, you're ready to write your sentence. "
      ]
    },
    {
      "cell_type": "code",
      "execution_count": null,
      "metadata": {
        "colab": {
          "base_uri": "https://localhost:8080/"
        },
        "id": "0U8slyfyICeJ",
        "outputId": "68cd99e3-763d-4a8c-fc26-d46c646c01ed"
      },
      "outputs": [
        {
          "name": "stdout",
          "output_type": "stream",
          "text": [
            "my age is  20  my height is  1.67  my hometown is Turkiye\n"
          ]
        }
      ],
      "source": [
        "#Write a sentence using the print function to describe yourself using the variables above in the correct data type\n",
        "print(\"my age is \",str(my_age), \" my height is \", str(my_height), \" my hometown is\", my_hometown)"
      ]
    },
    {
      "cell_type": "markdown",
      "metadata": {
        "id": "7ICXdJRy9SWZ"
      },
      "source": [
        "#Where to go and what to eat\n",
        "\n",
        "Now that you know each other a little better, you can start planning your adventure. But where do you start? \n",
        "\n",
        "Let's start with locations and food. Amir asks you to make a list of places in the world that you want to visit and meals that you like to eat.\n",
        " \n",
        "Create a list 'favorite_places_and_foods' that contains at least 5 places and 5 meals.\n"
      ]
    },
    {
      "cell_type": "code",
      "execution_count": null,
      "metadata": {
        "id": "FHdeAmG6Aw3h"
      },
      "outputs": [],
      "source": [
        "#Create your list\n",
        "favorite_places_and_foods = [\"prague\", \"italy\", \"istanbul\", \"amsterdam\", \"konya\", \"chicken\", \"salad\", \"fish\", \"breakfast\", \"bomba\"]"
      ]
    },
    {
      "cell_type": "markdown",
      "metadata": {
        "id": "bHbGRpu2MmYH"
      },
      "source": [
        "It's quite tough to choose from such great options. You need to narrow it down to three items per category. \n",
        "\n",
        "1. First you have to separate or 'slice' the places from the meals. \n",
        "2. Then select the first three items from the places list and the last ones from the foods list.\n",
        "3. Print the remaining options to the screen. \n",
        "\n",
        "📌 Do you remember the list slicing technique? For example, Mylist[1:3] will give the second and third value from Mylist."
      ]
    },
    {
      "cell_type": "code",
      "execution_count": null,
      "metadata": {
        "colab": {
          "base_uri": "https://localhost:8080/"
        },
        "id": "13LMxJu1CD-F",
        "outputId": "a4532a73-0b86-42b1-bb84-a51e99c29dac"
      },
      "outputs": [
        {
          "name": "stdout",
          "output_type": "stream",
          "text": [
            "first place prague last place konya\n",
            "first food chicken last food bomba\n",
            "['prague', 'italy', 'istanbul', 'amsterdam', 'konya']\n",
            "['chicken', 'salad', 'fish', 'breakfast', 'bomba']\n"
          ]
        }
      ],
      "source": [
        "#Create two separate lists for places and foods using the list slicing technique\n",
        "favorite_places = favorite_places_and_foods[0:5]\n",
        "favorite_foods = favorite_places_and_foods[5:10]\n",
        "#Select the first and last three from place and food lists\n",
        "first_place = favorite_places[0]\n",
        "last_place = favorite_places[4]\n",
        "print(\"first place\", first_place, \"last place\", last_place)\n",
        "\n",
        "first_food = favorite_foods[0]\n",
        "last_food = favorite_foods[4]\n",
        "print(\"first food\", first_food, \"last food\", last_food)\n",
        "\n",
        "#Print both lists\n",
        "print(favorite_places)\n",
        "print(favorite_foods)"
      ]
    },
    {
      "cell_type": "markdown",
      "metadata": {
        "id": "R5LG-XXHBFFM"
      },
      "source": [
        "It's quite hard to make a choice from these three. But why not let the computer choose for you? Do you remember the game of dice from our videos? Here is what you need to do.\n",
        "\n",
        "1. Import the random module\n",
        "2. Generate two random numbers between 0-2\n",
        "3. Use each number as the index to choose an item from your favourite-place and food lists\n",
        "4. Print the results to the screen\n"
      ]
    },
    {
      "cell_type": "code",
      "execution_count": null,
      "metadata": {
        "colab": {
          "base_uri": "https://localhost:8080/"
        },
        "id": "krGw2OUtC9y5",
        "outputId": "9c5ea15c-17d1-4d6e-c927-fad1eba8b348"
      },
      "outputs": [
        {
          "name": "stdout",
          "output_type": "stream",
          "text": [
            "Selected place prague selected food chicken\n"
          ]
        }
      ],
      "source": [
        "#Please import the random module and generate two random numbers between 0 and 2\n",
        "import random\n",
        "selection_1 = random.randint(0,2)\n",
        "selection_2 = random.randint(0,2)\n",
        "#Use the generated numbers as indexes of randomely chosen items from place and food lists\n",
        "selected_place = favorite_places[selection_1]\n",
        "selected_food = favorite_foods[selection_2]\n",
        "print(\"Selected place\", selected_place, \"selected food\", selected_food)"
      ]
    },
    {
      "cell_type": "markdown",
      "metadata": {
        "id": "XzBTqk1yPZsM"
      },
      "source": [
        "You must have found your location and food. But what else would you like to do on your adventure?"
      ]
    },
    {
      "cell_type": "markdown",
      "metadata": {
        "id": "9t9q1B-WbW4i"
      },
      "source": [
        "#Activities \n",
        "\n",
        "Now, you have your place and meals, but after lunch there are still lots of activities that you can do together...or separately.\n",
        "\n",
        "Let's say there are three pre-defined options: playing chess, playing tennis and visiting a museum. Chess and tennis require both of you to participate, but you can visit the museum separately as well. \n",
        "\n",
        "We need a code to indicate which activities each of you would like to do and which ones will be able to do. A chance to use our logical operators. \n",
        "\n",
        "1. Define activities\n",
        "2. Use the operands 'True' and 'False' to indicate your and Amir's preference for each activity\n",
        "3. Use the logical operators 'and' and 'or' to define which activities you will be able to do\n",
        "\n",
        "📌 Please add in the responces for Amir as well, by the way he doesn't like sports, but loves board games. "
      ]
    },
    {
      "cell_type": "code",
      "execution_count": null,
      "metadata": {
        "colab": {
          "base_uri": "https://localhost:8080/"
        },
        "id": "sNIV7420Yk-Y",
        "outputId": "e181b113-1367-4616-d6e1-4e4477fdca63"
      },
      "outputs": [
        {
          "name": "stdout",
          "output_type": "stream",
          "text": [
            "We are going to play chess in the park! Answer: False\n",
            "We are going to play tennis in the park! Answer: True\n",
            "We are going to go to the museum in the park! Answer: True\n"
          ]
        }
      ],
      "source": [
        "first_activity = \"lets play chess in the park\"\n",
        "second_activiy = \"lets play a game of tennis\"\n",
        "third_activity = \"lets go to the museum\"\n",
        "\n",
        "#Write your and Amir's preference for each activity either as \"True\" or \"False\"\n",
        "\n",
        "#First activity\n",
        "first_activity_your = True\n",
        "first_activity_friend = False\n",
        "\n",
        "#Example statement\n",
        "print(\"We are going to play chess in the park! Answer:\" ,first_activity_your and first_activity_friend)\n",
        " \n",
        "#Second activity\n",
        "second_activity_your = True\n",
        "second_activity_friend = True\n",
        " \n",
        "#Your turn to write the statement\n",
        "print(\"We are going to play tennis in the park! Answer:\" ,second_activity_your and second_activity_friend)\n",
        "\n",
        "#Third activity\n",
        "third_activity_your = False \n",
        "third_activity_friend = True\n",
        "#Your turn to write the statement \n",
        "print(\"We are going to go to the museum in the park! Answer:\" ,third_activity_your or third_activity_friend)"
      ]
    },
    {
      "cell_type": "markdown",
      "metadata": {
        "id": "p_jbzGubELqR"
      },
      "source": [
        "#Get a date\n",
        "\n",
        "Finally you know where to meet, what to eat and what do to. The only last thing to decide is when to meet. How would you ask Amir for the date and time he wants to go on this adventure with you? \n",
        "\n",
        "📌📌Hint: Use the input() function."
      ]
    },
    {
      "cell_type": "code",
      "execution_count": null,
      "metadata": {
        "colab": {
          "base_uri": "https://localhost:8080/"
        },
        "id": "jGxVfccGEMZB",
        "outputId": "c53156f2-e740-4b6b-f43b-65b9c95ee729"
      },
      "outputs": [
        {
          "name": "stdout",
          "output_type": "stream",
          "text": [
            "When would you like to meet22 may 2023\n",
            "Our trip date is 22 may 2023 .\n"
          ]
        }
      ],
      "source": [
        "#Create a variable for your trip date that asks Amir for an input\n",
        "trip_date = input(\"When would you like to meet\")\n",
        "\n",
        "#Print the date for the trip by using it in a sentence\n",
        "print(\"Our trip date is\", str(trip_date), \".\")"
      ]
    }
  ],
  "metadata": {
    "colab": {
      "provenance": [],
      "include_colab_link": true
    },
    "kernelspec": {
      "display_name": "Python 3",
      "name": "python3"
    },
    "language_info": {
      "name": "python"
    }
  },
  "nbformat": 4,
  "nbformat_minor": 0
}