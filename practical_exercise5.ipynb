{
  "nbformat": 4,
  "nbformat_minor": 0,
  "metadata": {
    "colab": {
      "provenance": [],
      "include_colab_link": true
    },
    "kernelspec": {
      "name": "python3",
      "display_name": "Python 3"
    },
    "language_info": {
      "name": "python"
    }
  },
  "cells": [
    {
      "cell_type": "markdown",
      "metadata": {
        "id": "view-in-github",
        "colab_type": "text"
      },
      "source": [
        "<a href=\"https://colab.research.google.com/github/hilalsinem/python/blob/main/practical_exercise5.ipynb\" target=\"_parent\"><img src=\"https://colab.research.google.com/assets/colab-badge.svg\" alt=\"Open In Colab\"/></a>"
      ]
    },
    {
      "cell_type": "markdown",
      "source": [
        "# Practical exercise 5:  Become a teacher assistant\n",
        "\n",
        "For this practical exercise, imagine you are a student in a chemistry class.\n",
        "\n",
        "Your teacher assigned you a task to create a report card on your classmates' chemistry exams. \n",
        "\n",
        "📌 The exam scores are given as points between 0 and 100, but in the report card the grade have to be given as letters. \n",
        "\n",
        "📌 He has provided you with the conversion table so that you can convert points to letters.\n"
      ],
      "metadata": {
        "id": "tBDsFMQwBs6Z"
      }
    },
    {
      "cell_type": "markdown",
      "source": [
        "## Warm up\n",
        "\n",
        "Before you start working on the report card and practicing file operations and exceptions handling, let's warm up by defining the functions we will need. \n",
        "\n",
        "📌Define a function *compute_grade* that converts points to letter grades.\n",
        "\n",
        "📌This function should take points as an argument and return the grade as a letter. \n",
        "\n",
        "The conversion table is as follows:\n",
        "\n",
        "Points | Grade\n",
        "--- | ---\n",
        "70 - 100 | A\n",
        "50 - 69 | B\n",
        "30 - 49 | C\n",
        "0 - 29 | F\n",
        "\n",
        "📌 You can use if, elif and else statements. \n"
      ],
      "metadata": {
        "id": "ymULFKyosM3d"
      }
    },
    {
      "cell_type": "code",
      "source": [
        "#Define a function compute_grade that takes points as an argument and returns the grade as a letter\n",
        "def compute_grade(point):\n",
        "  if point >= 70 and point <= 100:\n",
        "    return \"A\"\n",
        "  elif point < 70 and point >=50:\n",
        "    return \"B\"\n",
        "  elif point < 50 and point >=30:\n",
        "    return \"C\"\n",
        "  elif point >=0 and point <30:\n",
        "    return \"F\""
      ],
      "metadata": {
        "id": "0w6HGZBvsvru"
      },
      "execution_count": 1,
      "outputs": []
    },
    {
      "cell_type": "markdown",
      "source": [
        "Let's check if your function is working.\n",
        "\n",
        "One of your classmates got 39 points in the exam. Use the function *compute_grade* to check his grade."
      ],
      "metadata": {
        "id": "_FciCSMIwDUv"
      }
    },
    {
      "cell_type": "code",
      "source": [
        "#Call the function to convert 39 points to a letter grade\n",
        "compute_grade(39)"
      ],
      "metadata": {
        "id": "fzGQtlg-wKF9",
        "colab": {
          "base_uri": "https://localhost:8080/",
          "height": 35
        },
        "outputId": "eed8a409-7de7-4597-cc72-fc05430fad90"
      },
      "execution_count": 2,
      "outputs": [
        {
          "output_type": "execute_result",
          "data": {
            "text/plain": [
              "'C'"
            ],
            "application/vnd.google.colaboratory.intrinsic+json": {
              "type": "string"
            }
          },
          "metadata": {},
          "execution_count": 2
        }
      ]
    },
    {
      "cell_type": "markdown",
      "source": [
        "## Prepare the report card message\n",
        "\n",
        "Now, you have a function to convert the points to letter grades. But to make a report card, we need more information. \n",
        "\n",
        "The report card should also include the name of the student, their points, and the resulting grade. All of this can be written in a sentence like this: \"[Student name] scored [points]/100 points in Chemistry and got the grade [letter grade]\"\n",
        "\n",
        "###Here are the steps to do this:\n",
        "\n",
        "📌 Define a function (e.g. *report_message*) that takes the student name and the points as an argument.\n",
        "\n",
        "📌 Inside the function, use the *compute_grade* function to convert the points to a letter grade.\n",
        "\n",
        "🧨 You can use the '+' sign to concatenate strings. \n",
        "\n",
        "💣 You might need to convert variables to string data type to be able to include them in the message.\n",
        "\n"
      ],
      "metadata": {
        "id": "SdHhl_uArXUE"
      }
    },
    {
      "cell_type": "code",
      "source": [
        "#Define a function that takes the student name and the points as an argument and returns the message for the report card\n",
        "def report_message(name, point):\n",
        "  letter = compute_grade(point)\n",
        "  return name + \" scored \" +str(point)+ \"/100 points in Chemistry and got the grade \" +letter"
      ],
      "metadata": {
        "id": "_B_EcJmrsRRl"
      },
      "execution_count": 10,
      "outputs": []
    },
    {
      "cell_type": "markdown",
      "source": [
        "Let's try the function for your classmate Zach, who scored 51 points."
      ],
      "metadata": {
        "id": "Tb6bW_HLvnFv"
      }
    },
    {
      "cell_type": "code",
      "source": [
        "#Call the function for you friend Zach\n",
        "reported_message_zach = report_message(\"Zach\",51)\n",
        "print(reported_message_zach)"
      ],
      "metadata": {
        "id": "s_1FPCimvkBz"
      },
      "execution_count": 13,
      "outputs": []
    },
    {
      "cell_type": "markdown",
      "source": [
        "## Help your teacher send Zach his report card\n",
        "Great! Your teacher wants you to create a report card for Zach that he can send to him. \n",
        "\n",
        "You decide that the easiest way to do this is to save the report card message inside a text file.\n",
        "\n",
        "📌 Create a text file *zach_report.txt* in which the message can be saved.\n",
        "\n",
        "💣 Remember that you can simply create a file by opening it in the write mode. \n",
        "\n",
        "📌 Use the .write() method to write the message inside the file.\n",
        "\n",
        "🧨🧨🧨 Make sure to close all the files that you open during this exercise once you are done using them!"
      ],
      "metadata": {
        "id": "U5alHNpR1QoX"
      }
    },
    {
      "cell_type": "code",
      "source": [
        "#Creat a text file for Zach's report card and write the message inside\n",
        "my_file = open(\"zach_report.txt\", \"w\")\n",
        "my_file.write(reported_message_zach)\n",
        "my_file.close()\n"
      ],
      "metadata": {
        "id": "h5qp_cM6nyLE"
      },
      "execution_count": 14,
      "outputs": []
    },
    {
      "cell_type": "markdown",
      "source": [
        "## Check if report cards are already prepared\n",
        "\n",
        "Sophie got 78 points in the exam and your teacher wants to send her a report card as well. However, he doesn't remember if there is already a report card for her. Let's find out!\n",
        "\n",
        "\n",
        "📌 Check if there is already an existing report card *sophie_report.txt* by trying to open it in the read mode. If there is, print a message: 'There is an existing report card for Sophie.'\n",
        "\n",
        "📌 However, if there is none, you need to create one and write the message inside.\n",
        "\n",
        "💣 If the file does not exist, you will get an error! Make sure to apply the exception handling techniques that we covered in this module to prevent errors.\n",
        "\n",
        "📌📌📌 Use the *try* keyword to open the file sophie_report.txt in the read mode. If the file does not exist, it will throw an exception. In the *except* block, open the same file in the write mode to create the file."
      ],
      "metadata": {
        "id": "RuCQ86hs7iVy"
      }
    },
    {
      "cell_type": "code",
      "source": [
        "#Check if there is already a report card for Sophie and print a message in case there is\n",
        "try:\n",
        "  file_spohie = open(\"sophie_report.txt\", \"r\")\n",
        "  #If there is none, create one and write the message inside\n",
        "except FileNotFoundError:\n",
        "  file_sophie = open(\"sophie_report.txt\", \"w\")\n",
        "  message_sophie = report_message(\"Sophie\", 78)\n",
        "  file_sophie.write(message_sophie)\n",
        "else:\n",
        "  print(\"There is an existing report card for Sophie\")\n",
        "\n",
        "\n"
      ],
      "metadata": {
        "id": "uSJI9dlz7hFg"
      },
      "execution_count": 15,
      "outputs": []
    },
    {
      "cell_type": "markdown",
      "source": [
        "## Good job, your teacher is impressed!\n",
        "\n",
        "You have done a great job helping him. That's why he wants you to take it a step further and enter the grades of the whole class in a single file.\n",
        "\n",
        "Instead of a message for each student, the file should contain the names and the grades as letters in this form: \n",
        "\n",
        "*Name:Grade*\n",
        "\n",
        "\n",
        "📌 For this task you will implement a function *student_grade* which takes the student name and points as arguments. This function should use the previously defined *compute_grade* function to convert points to a letter grade. \n",
        "\n",
        "🧨🧨 There might be some missing students during the exam. Instead of the points, 'missing' will be entered for them. The function should consider the exception case when the points are not a number."
      ],
      "metadata": {
        "id": "qi17AoZFjENO"
      }
    },
    {
      "cell_type": "code",
      "source": [
        "\n",
        "#Define a function that takes the student name and the points as an argument and returns them as specified in the instructions\n",
        "def student_grade(name, point):\n",
        "  \n",
        "  #return name:grade\n",
        "  try:\n",
        "    return (name + \" : \" +compute_grade(point) )\n",
        "    #or return a message if the student was missing\n",
        "  except :\n",
        "    return (name + \" was missing in the exam\")"
      ],
      "metadata": {
        "id": "lvv-OGRk3_kA"
      },
      "execution_count": 26,
      "outputs": []
    },
    {
      "cell_type": "markdown",
      "source": [
        "Your teacher provided you a list with the students and their points in the exam. If a student is missing, the string 'missing' is entered instead."
      ],
      "metadata": {
        "id": "0EuRGjxieE64"
      }
    },
    {
      "cell_type": "code",
      "source": [
        "#Run the list of all students and their points\n",
        "student_list = [('Zach', 51), ('Sophie', 78), ('Hilal', 64), ('Markus',98), ('Jane', \"missing\")]"
      ],
      "metadata": {
        "id": "KixqWzyqcBXe"
      },
      "execution_count": 21,
      "outputs": []
    },
    {
      "cell_type": "markdown",
      "source": [
        "### (1) Use a for loop to access each student one at a time\n",
        "\n",
        "📌 You can loop over the list that you teacher provided you by using a for loop.\n",
        "\n",
        "📌 Unpack the tuples containing the student name and points, then use the *student_grade* function you defined earlier to convert the points into a letter grade.\n",
        "\n",
        "📌 Print the message that the *student_grade* function returns\n",
        "\n"
      ],
      "metadata": {
        "id": "Bl8E80-bPHD3"
      }
    },
    {
      "cell_type": "code",
      "source": [
        "#Write a for loop to access each student one at a time and unpack the tuple\n",
        "for student, point in student_list:\n",
        "  #print the message returned by student_grade\n",
        "  print(student_grade(student, point))\n"
      ],
      "metadata": {
        "id": "Ty8qpsnnOtn9",
        "colab": {
          "base_uri": "https://localhost:8080/"
        },
        "outputId": "ea7da39b-733f-45e6-a31c-734cbb0df55a"
      },
      "execution_count": 27,
      "outputs": [
        {
          "output_type": "stream",
          "name": "stdout",
          "text": [
            "Zach : B\n",
            "Sophie : A\n",
            "Hilal : B\n",
            "Markus : A\n",
            "Jane was missing in the exam\n"
          ]
        }
      ]
    },
    {
      "cell_type": "markdown",
      "source": [
        "### (2) Store the names and the grades in a text file\n",
        "\n",
        "As a last step, you need to save the grades inside a file. \n",
        "\n",
        "📌 Create a file *grades.txt* by opening it in the write mode.\n",
        "\n",
        "📌 Instead of printing the grade, use the .write() method and the for loop you just created to write the grades into the file.\n",
        "\n",
        "💣 Make sure to add the escape statement '\\n' to each line you write to the file to indicate that each student should be written in it's own line.\n",
        "\n"
      ],
      "metadata": {
        "id": "j6BoFiZORx9G"
      }
    },
    {
      "cell_type": "code",
      "source": [
        "#Create the grades.txt file\n",
        "grades_file = open(\"grades.txt\", \"w\")\n",
        "\n",
        "#Use the for loop to write the name and grade of each student in the file \n",
        "for student, point in student_list:\n",
        "  grade = student_grade(student,point)\n",
        "  #Write the message returned by student_grade into the file\n",
        "  grades_file.write(grade + '\\n')"
      ],
      "metadata": {
        "id": "QDgQhXGWRxbg"
      },
      "execution_count": 34,
      "outputs": []
    },
    {
      "cell_type": "markdown",
      "source": [
        "##Well done! \n",
        "You have completed all the tasks that your teacher had assigned you. Don't forget to close the grades.txt file."
      ],
      "metadata": {
        "id": "H08ejANvWdob"
      }
    },
    {
      "cell_type": "code",
      "source": [
        "#Close the file\n",
        "grades_file.close()"
      ],
      "metadata": {
        "id": "lUZkgrvbWcYc"
      },
      "execution_count": 31,
      "outputs": []
    }
  ]
}